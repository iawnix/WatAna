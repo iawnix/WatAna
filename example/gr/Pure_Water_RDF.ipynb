{
 "cells": [
  {
   "cell_type": "code",
   "execution_count": 3,
   "id": "cc05e1c2",
   "metadata": {},
   "outputs": [],
   "source": [
    "import MDAnalysis as mda\n",
    "from MDAnalysis.analysis.hydrogenbonds.hbond_analysis import HydrogenBondAnalysis as HBA\n",
    "from MDAnalysis.analysis import hydrogenbonds\n",
    "import sys\n",
    "from matplotlib import pyplot as plt\n",
    "import pandas as pd\n",
    "import numpy as np\n",
    "import matplotlib.ticker as ticker\n",
    "from rich import print as rprint\n",
    "from matplotlib import pyplot as plt\n",
    "from scipy.optimize import curve_fit\n",
    "from MDAnalysis.analysis.rdf import InterRDF\n",
    "from MDAnalysis.analysis import msd\n",
    "import json\n",
    "from rich.progress import track\n",
    "\n",
    "from scipy.stats import gaussian_kde\n",
    "from copy import deepcopy"
   ]
  },
  {
   "cell_type": "markdown",
   "id": "1d317f95",
   "metadata": {},
   "source": [
    "# 读取轨迹"
   ]
  },
  {
   "cell_type": "code",
   "execution_count": 2,
   "id": "77110639",
   "metadata": {},
   "outputs": [],
   "source": [
    "config_s = {\n",
    "       \"SPCE_qspcfw\": {\n",
    "          \"fp_ncdf\": \"/home/iaw/DATA/ALP/bulk2/nvt-0.5fs/md20ps.ncdf\"\n",
    "        , \"fp_top\": \"/home/iaw/DATA/ALP/bulk2/nvt-0.5fs/model.prmtop\"\n",
    "        , \"start_frame\": 0\n",
    "        , \"end_frame\": 400000\n",
    "        , \"step\": 100\n",
    "    }\n",
    "    ,  \"SPCE_spcfw\": {\n",
    "          \"fp_ncdf\": \"/home/iaw/DATA2/wat_md/bulk_spce_flex_spcfw/nvt_200ps/md200ps.ncdf\"\n",
    "        , \"fp_top\": \"/home/iaw/DATA2/wat_md/bulk_spce_flex_spcfw/nvt_200ps/model.prmtop\"\n",
    "        , \"start_frame\": 0\n",
    "        , \"end_frame\": 400000\n",
    "        , \"step\": 100\n",
    "    }\n",
    "    ,  \"OPC3POL\": {\n",
    "          \"fp_ncdf\": \"/home/iaw/DATA2/wat_md/bulk_opc3pol_rigid/nvt_200ps/md200ps.ncdf\"\n",
    "        , \"fp_top\": \"/home/iaw/DATA2/wat_md/bulk_opc3pol_rigid/nvt_200ps/model.prmtop\"\n",
    "        , \"start_frame\": 0\n",
    "        , \"end_frame\": 400000\n",
    "        , \"step\": 100\n",
    "    }\n",
    "    ,  \"TIP3P\": {\n",
    "          \"fp_ncdf\":\"/home/iaw/DATA2/wat_md/bulk_tip3p_rigid/216/5_nvt_200ps/md200ps.ncdf\"\n",
    "        , \"fp_top\": \"/home/iaw/DATA2/wat_md/bulk_tip3p_rigid/216/5_nvt_200ps/model.prmtop\"\n",
    "        , \"start_frame\": 0\n",
    "        , \"end_frame\": 400000\n",
    "        , \"step\": 100\n",
    "    }\n",
    "    ,  \"SPCE\": {\n",
    "          \"fp_ncdf\":\"/home/iaw/DATA2/wat_md/bulk_spce_rigid/nvt_200ps/md200ps.ncdf\"\n",
    "        , \"fp_top\": \"/home/iaw/DATA2/wat_md/bulk_spced_rigid/nvt_200ps/model.prmtop\"\n",
    "        , \"start_frame\": 0\n",
    "        , \"end_frame\": 400000\n",
    "        , \"step\": 100\n",
    "    }\n",
    "}"
   ]
  },
  {
   "cell_type": "code",
   "execution_count": null,
   "id": "b08524bb",
   "metadata": {},
   "outputs": [
    {
     "data": {
      "application/vnd.jupyter.widget-view+json": {
       "model_id": "cbb3de27501c4ea5928e82ce78375d97",
       "version_major": 2,
       "version_minor": 0
      },
      "text/plain": [
       "Output()"
      ]
     },
     "metadata": {},
     "output_type": "display_data"
    }
   ],
   "source": [
    "result_s = deepcopy(config_s)\n",
    "for k in track(config_s.keys()):\n",
    "    i_trial = config_s[k]\n",
    "    fp_ncdf = i_trial[\"fp_ncdf\"]\n",
    "    fp_top = i_trial[\"fp_top\"]\n",
    "\n",
    "    i_u = u = mda.Universe(fp_top\n",
    "                           ,fp_ncdf\n",
    "                           , dt = 0.0005, format= \"NCDF\"\n",
    "                           , topology_format=\"PRMTOP\")\n",
    "\n",
    "    bulk_wat_O_sele = \"type OW\"\n",
    "    bulk_O_wat = i_u.select_atoms(bulk_wat_O_sele, updating=False)\n",
    "    rdf_O = InterRDF(g1=bulk_O_wat, g2=bulk_O_wat, nbins=100, range=[0,15], norm=\"rdf\",exclude_same=\"residue\")\n",
    "    rdf_O.run(step=10)\n",
    "    result_s[k][\"result_OO\"] = rdf_O\n",
    "\n",
    "    bulk_wat_H_sele = \"type HW\"\n",
    "    bulk_H_wat = i_u.select_atoms(bulk_wat_H_sele, updating=False)\n",
    "    rdf_H = InterRDF(g1=bulk_H_wat, g2=bulk_H_wat, nbins=100, range=[0,15], norm=\"rdf\",exclude_same=\"residue\")\n",
    "    rdf_H.run(step=10)\n",
    "    result_s[k][\"result_HH\"] = rdf_H"
   ]
  },
  {
   "cell_type": "markdown",
   "id": "3a376057",
   "metadata": {},
   "source": [
    "## gr\n",
    "- O and O\n",
    "- H and H"
   ]
  },
  {
   "cell_type": "code",
   "execution_count": null,
   "id": "e7dcae38",
   "metadata": {},
   "outputs": [],
   "source": [
    "fig = plt.figure(figsize=(9,7), dpi=300)\n",
    "\n",
    "plt.rcParams[\"axes.labelweight\"] =\"bold\" \n",
    "plt.rcParams[\"font.family\"]=\"Times New Roman\" \n",
    "plt.rcParams[\"font.weight\"]=\"bold\" \n",
    "plt.rcParams[\"font.size\"]=20\n",
    "plt.rcParams[\"mathtext.default\"]=\"regular\"\n",
    "\n",
    "\n",
    "ax1= plt.gca()\n",
    "\n",
    "#ax1.spines['bottom'].set_position(('data',0))\n",
    "ax1.spines['left'].set_position(('axes',0))\n",
    "ax1.spines['bottom'].set_linewidth(2)\n",
    "ax1.spines['left'].set_linewidth(2)\n",
    "ax1.spines['right'].set_linewidth(2)\n",
    "ax1.spines['top'].set_linewidth(2)\n",
    "\n",
    "ax1.tick_params(which='major'          # 设置对主刻度和次刻度生效\n",
    "                ,bottom=True           # 底部坐标轴\n",
    "                ,top=True\n",
    "                ,left=True             # 左侧坐标轴\n",
    "                ,right=True\n",
    "                ,direction='in'       # 设置刻度线方向，'in' 表示朝内\n",
    "                ,width=2               # 设置刻度线粗细\n",
    "                ,length=8              # 设置长短\n",
    "                ,labelsize=20\n",
    "                )\n",
    "ax1.tick_params(which='minor'          # 设置对主刻度和次刻度生效\n",
    "                ,bottom=True           # 底部坐标轴\n",
    "                ,top=True\n",
    "                ,left=True             # 左侧坐标轴\n",
    "                ,right=True\n",
    "                ,direction='in'       # 设置刻度线方向，'in' 表示朝内\n",
    "                ,width=2               # 设置刻度线粗细\n",
    "                ,length=5              # 设置长短\n",
    "                ,labelsize=20\n",
    "                )\n",
    "ax1.xaxis.set_major_locator(ticker.MultipleLocator(2))\n",
    "ax1.xaxis.set_minor_locator(ticker.MultipleLocator(1))\n",
    "ax1.yaxis.set_major_locator(ticker.MultipleLocator(0.4))\n",
    "ax1.yaxis.set_minor_locator(ticker.MultipleLocator(0.2))\n",
    "\n",
    "ax1.set_xlabel(\"Distance (Å)\")\n",
    "ax1.set_ylabel(\"gr\")\n",
    "plt.plot(rdf_O.results.bins, rdf_O.results.rdf, alpha = 1,linewidth=2,color=\"green\", linestyle = \"-\", label = \"O-O\")\n",
    "plt.plot(rdf_H.results.bins, rdf_H.results.rdf, alpha = 1,linewidth=2,color=\"blue\", linestyle = \"-\", label = \"H-H\")\n",
    "\n",
    "plt.legend()\n",
    "\n",
    "plt.savefig(\"./fig/1_gr_bulk.png\")\n",
    "\n",
    "out = pd.DataFrame.from_dict({\"bins_O\":rdf_O.results.bins, \"rdf_O\":rdf_O.results.rdf, \"bins_H\":rdf_H.results.bins, \"rdf_H\":rdf_H.results.rdf})\n",
    "\n",
    "out.to_csv(\"./out/1_gr_bulk.csv\",index=False)\n"
   ]
  }
 ],
 "metadata": {
  "kernelspec": {
   "display_name": "pytorch3.9",
   "language": "python",
   "name": "python3"
  },
  "language_info": {
   "codemirror_mode": {
    "name": "ipython",
    "version": 3
   },
   "file_extension": ".py",
   "mimetype": "text/x-python",
   "name": "python",
   "nbconvert_exporter": "python",
   "pygments_lexer": "ipython3",
   "version": "3.9.19"
  }
 },
 "nbformat": 4,
 "nbformat_minor": 5
}
